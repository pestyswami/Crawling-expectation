{
 "cells": [
  {
   "cell_type": "code",
   "execution_count": 1,
   "id": "0a471d5d",
   "metadata": {},
   "outputs": [],
   "source": [
    "import pandas as pd\n",
    "\n",
    "f= open('./news22_01_02.csv','r')\n",
    "lines = f.read().splitlines()\n",
    "sum_of_jan = 0 # 1월 기사량\n",
    "sum_of_feb = 0 # 2월 기사량\n",
    "\n",
    "for i in range(1, 32): # 1월의 기사량만 수집\n",
    "    sum_of_jan += int(lines[i][3:].split(',')[1])\n",
    "\n",
    "for i in range(32, 60): # 2월의 기사량만 수집\n",
    "    sum_of_feb += int(lines[i][3:].split(',')[1])\n",
    "\n",
    "f = open(\"./news_count.csv\", \"w\")\n",
    "month = [\"1월\", \"2월\"]\n",
    "sum_of_month = [str(sum_of_jan), str(sum_of_feb)]\n",
    "for i in range(len(month)):\n",
    "    f.write(month[i] + ',' + sum_of_month[i] + '\\n')\n",
    "    \n",
    "f.close()"
   ]
  }
 ],
 "metadata": {
  "kernelspec": {
   "display_name": "Python 3 (ipykernel)",
   "language": "python",
   "name": "python3"
  },
  "language_info": {
   "codemirror_mode": {
    "name": "ipython",
    "version": 3
   },
   "file_extension": ".py",
   "mimetype": "text/x-python",
   "name": "python",
   "nbconvert_exporter": "python",
   "pygments_lexer": "ipython3",
   "version": "3.9.7"
  }
 },
 "nbformat": 4,
 "nbformat_minor": 5
}
